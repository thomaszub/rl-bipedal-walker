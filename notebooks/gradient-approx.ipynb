{
 "cells": [
  {
   "cell_type": "code",
   "execution_count": null,
   "metadata": {},
   "outputs": [],
   "source": [
    "params =  (1.0, 2.0, 0.5)\n",
    "x = (1.0, 0.5, -2.0)\n",
    "\n",
    "\n",
    "def func(a1, a2, a3):\n",
    "    return lambda x1, x2, x3: a1 * x1 + a2 * x2**2 + a3 * x3**3\n"
   ]
  },
  {
   "cell_type": "code",
   "execution_count": null,
   "metadata": {},
   "outputs": [],
   "source": [
    "import torch\n",
    "\n",
    "params_t = torch.tensor(params, requires_grad=True)\n",
    "\n",
    "fun_t = func(*params_t)\n",
    "val_t = fun_t(*x)  # 1.0 * 1.0 + 2.0 * 0.5**2 + 0.5 * (-2.0) ** 3 = 1.0 + 0.5 + -4.0 = -2.5\n",
    "val_t.backward()\n",
    "grad_t = params_t.grad # (1.0, 0.25, -8.0)\n",
    "print(val_t, grad_t)"
   ]
  },
  {
   "cell_type": "code",
   "execution_count": null,
   "metadata": {},
   "outputs": [],
   "source": [
    "import numpy as np\n",
    "\n",
    "n_gen = 16384\n",
    "std = 0.1\n",
    "\n",
    "def grad_approx(std, n_gen):\n",
    "    val_base = func(*params)(*x)\n",
    "    def sample():\n",
    "        noise = np.random.normal(scale=std, size=(3))\n",
    "        params_n = params + noise\n",
    "        val_n = func(*params_n)(*x)\n",
    "        return (val_n - val_base)*noise/(std**2)\n",
    "\n",
    "    vals_n = [sample() for _ in range(n_gen)]\n",
    "    return np.mean(vals_n, axis=0)\n",
    "\n",
    "print(grad_approx(std, n_gen))"
   ]
  },
  {
   "cell_type": "code",
   "execution_count": null,
   "metadata": {},
   "outputs": [],
   "source": []
  }
 ],
 "metadata": {
  "interpreter": {
   "hash": "54e45d1443a48d521e8bb16c3e93948b63d92f2b14175aa838e9e8389e16aace"
  },
  "kernelspec": {
   "display_name": "Python 3.9.13 ('.venv': poetry)",
   "language": "python",
   "name": "python3"
  },
  "language_info": {
   "codemirror_mode": {
    "name": "ipython",
    "version": 3
   },
   "file_extension": ".py",
   "mimetype": "text/x-python",
   "name": "python",
   "nbconvert_exporter": "python",
   "pygments_lexer": "ipython3",
   "version": "3.9.13"
  },
  "orig_nbformat": 4
 },
 "nbformat": 4,
 "nbformat_minor": 2
}
