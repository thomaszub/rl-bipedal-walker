{
 "cells": [
  {
   "cell_type": "code",
   "execution_count": null,
   "metadata": {},
   "outputs": [],
   "source": [
    "import numpy as np\n",
    "import numpy.typing as npt\n",
    "from typing import List, Callable\n",
    "Activation = Callable[[npt.NDArray[np.float32]], npt.NDArray[np.float32]]\n",
    "\n",
    "def relu(x: npt.NDArray[np.float32]) -> npt.NDArray[np.float32]:\n",
    "  return np.maximum(x, 0)\n"
   ]
  },
  {
   "cell_type": "code",
   "execution_count": null,
   "metadata": {},
   "outputs": [],
   "source": [
    "in_shape = 24\n",
    "out_shape = 4\n",
    "hidden_layers = [64, 64]\n",
    "\n",
    "layers = [in_shape] + hidden_layers + [out_shape]\n",
    "layers"
   ]
  },
  {
   "cell_type": "code",
   "execution_count": null,
   "metadata": {},
   "outputs": [],
   "source": [
    "W = np.random.uniform(-1.0, 1.0, size=(in_shape, out_shape)).astype(np.float32)\n",
    "b = np.random.uniform(-1.0, 1.0, size=out_shape).astype(np.float32)"
   ]
  },
  {
   "cell_type": "code",
   "execution_count": null,
   "metadata": {},
   "outputs": [],
   "source": [
    "x = np.random.uniform(-1.0, 1.0, size=in_shape)"
   ]
  },
  {
   "cell_type": "code",
   "execution_count": null,
   "metadata": {},
   "outputs": [],
   "source": [
    "y = np.add(np.matmul(x, W), b)\n",
    "y"
   ]
  }
 ],
 "metadata": {
  "interpreter": {
   "hash": "54e45d1443a48d521e8bb16c3e93948b63d92f2b14175aa838e9e8389e16aace"
  },
  "kernelspec": {
   "display_name": "Python 3.9.13 ('.venv': poetry)",
   "language": "python",
   "name": "python3"
  },
  "language_info": {
   "codemirror_mode": {
    "name": "ipython",
    "version": 3
   },
   "file_extension": ".py",
   "mimetype": "text/x-python",
   "name": "python",
   "nbconvert_exporter": "python",
   "pygments_lexer": "ipython3",
   "version": "3.9.13"
  },
  "orig_nbformat": 4
 },
 "nbformat": 4,
 "nbformat_minor": 2
}
