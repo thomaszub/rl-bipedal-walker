{
 "cells": [
  {
   "cell_type": "code",
   "execution_count": 9,
   "metadata": {},
   "outputs": [],
   "source": [
    "import numpy as np\n",
    "import numpy.typing as npt\n",
    "from typing import List, Callable\n",
    "Activation = Callable[[npt.NDArray[np.float32]], npt.NDArray[np.float32]]\n",
    "\n",
    "def relu(x: npt.NDArray[np.float32]) -> npt.NDArray[np.float32]:\n",
    "  return np.maximum(x, 0)\n"
   ]
  },
  {
   "cell_type": "code",
   "execution_count": 10,
   "metadata": {},
   "outputs": [
    {
     "data": {
      "text/plain": [
       "[24, 64, 64, 4]"
      ]
     },
     "execution_count": 10,
     "metadata": {},
     "output_type": "execute_result"
    }
   ],
   "source": [
    "in_shape = 24\n",
    "out_shape = 4\n",
    "hidden_layers = [64, 64]\n",
    "\n",
    "layers = [in_shape] + hidden_layers + [out_shape]\n",
    "layers"
   ]
  },
  {
   "cell_type": "code",
   "execution_count": 11,
   "metadata": {},
   "outputs": [],
   "source": [
    "W = np.random.uniform(-1.0, 1.0, size=(in_shape, out_shape)).astype(np.float32)\n",
    "b = np.random.uniform(-1.0, 1.0, size=out_shape).astype(np.float32)"
   ]
  }
 ],
 "metadata": {
  "interpreter": {
   "hash": "c528e4c0a606a755c67e0d67d4740ec9dea698cfa9dd5801b1d313a3e3b7d14b"
  },
  "kernelspec": {
   "display_name": "Python 3.9.12 ('.venv': poetry)",
   "language": "python",
   "name": "python3"
  },
  "language_info": {
   "codemirror_mode": {
    "name": "ipython",
    "version": 3
   },
   "file_extension": ".py",
   "mimetype": "text/x-python",
   "name": "python",
   "nbconvert_exporter": "python",
   "pygments_lexer": "ipython3",
   "version": "3.9.12"
  },
  "orig_nbformat": 4
 },
 "nbformat": 4,
 "nbformat_minor": 2
}
