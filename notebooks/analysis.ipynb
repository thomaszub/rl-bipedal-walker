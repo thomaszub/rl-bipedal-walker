{
 "cells": [
  {
   "cell_type": "code",
   "execution_count": null,
   "metadata": {},
   "outputs": [],
   "source": [
    "import os\n",
    "import os.path\n",
    "import numpy as np\n",
    "import numpy.typing as npt\n",
    "import matplotlib.pyplot as plt\n",
    "\n",
    "%matplotlib inline\n",
    "plt.rcParams['figure.figsize'] = [16, 8]"
   ]
  },
  {
   "cell_type": "code",
   "execution_count": null,
   "metadata": {},
   "outputs": [],
   "source": [
    "reward_files = []\n",
    "\n",
    "for dirpath, dirnames, filenames in os.walk(\"../outputs\"):\n",
    "    for filename in [f for f in filenames if f.endswith(\"rewards_train.txt\")]:\n",
    "        reward_files.append(os.path.join(dirpath, filename))\n",
    "\n",
    "rewards_list = [(reward_file, np.fromfile(reward_file, sep=\"\\n\", dtype=np.float32)) for reward_file in sorted(reward_files)]\n",
    "\n",
    "for rewards in rewards_list:\n",
    "    plt.plot(rewards[1], label=rewards[0])\n",
    "\n",
    "plt.legend()"
   ]
  },
  {
   "cell_type": "code",
   "execution_count": null,
   "metadata": {},
   "outputs": [],
   "source": [
    "from typing import Tuple\n",
    "\n",
    "def statistics(rewards: npt.NDArray) -> Tuple[np.float32, np.float32, np.float32, np.float32]:\n",
    "    return np.mean(rewards), np.std(rewards), np.min(rewards), np.max(rewards)\n",
    "\n",
    "reward_files = []\n",
    "\n",
    "for dirpath, dirnames, filenames in os.walk(\"../outputs\"):\n",
    "    for filename in [f for f in filenames if f.endswith(\"rewards_test.txt\")]:\n",
    "        reward_files.append(os.path.join(dirpath, filename))\n",
    "\n",
    "rewards_list = [(reward_file, np.fromfile(reward_file, sep=\"\\n\", dtype=np.float32)) for reward_file in sorted(reward_files)]\n",
    "statistics_list = [(rewards[0], *statistics(rewards[1])) for rewards in rewards_list]\n",
    "for statistic in statistics_list:\n",
    "    print(f\"File: {statistic[0]}\")\n",
    "    print(f\"  Mean: {statistic[1]}\")\n",
    "    print(f\"  Std: {statistic[2]}\")\n",
    "    print(f\"  Min: {statistic[3]}\")\n",
    "    print(f\"  Max: {statistic[4]}\")\n",
    "\n",
    "\n"
   ]
  }
 ],
 "metadata": {
  "interpreter": {
   "hash": "54e45d1443a48d521e8bb16c3e93948b63d92f2b14175aa838e9e8389e16aace"
  },
  "kernelspec": {
   "display_name": "Python 3 (ipykernel)",
   "language": "python",
   "name": "python3"
  },
  "language_info": {
   "codemirror_mode": {
    "name": "ipython",
    "version": 3
   },
   "file_extension": ".py",
   "mimetype": "text/x-python",
   "name": "python",
   "nbconvert_exporter": "python",
   "pygments_lexer": "ipython3",
   "version": "3.9.13"
  }
 },
 "nbformat": 4,
 "nbformat_minor": 4
}
