{
 "cells": [
  {
   "cell_type": "code",
   "execution_count": null,
   "metadata": {},
   "outputs": [],
   "source": [
    "import os\n",
    "import os.path\n",
    "import numpy as np\n",
    "import matplotlib.pyplot as plt\n",
    "\n",
    "%matplotlib inline\n",
    "plt.rcParams['figure.figsize'] = [16, 8]"
   ]
  },
  {
   "cell_type": "code",
   "execution_count": null,
   "metadata": {},
   "outputs": [],
   "source": [
    "reward_files = []\n",
    "\n",
    "for dirpath, dirnames, filenames in os.walk(\"../outputs\"):\n",
    "    for filename in [f for f in filenames if f.endswith(\"rewards_train.txt\")]:\n",
    "        reward_files.append(os.path.join(dirpath, filename))\n",
    "\n",
    "rewards_list = [(reward_file, np.fromfile(reward_file, sep=\"\\n\", dtype=np.float32)) for reward_file in sorted(reward_files)]\n",
    "\n",
    "for rewards in rewards_list:\n",
    "    plt.plot(rewards[1], label=rewards[0])\n",
    "\n",
    "plt.legend()"
   ]
  },
  {
   "cell_type": "code",
   "execution_count": null,
   "metadata": {},
   "outputs": [],
   "source": [
    "reward_files = []\n",
    "\n",
    "for dirpath, dirnames, filenames in os.walk(\"../outputs\"):\n",
    "    for filename in [f for f in filenames if f.endswith(\"rewards_test.txt\")]:\n",
    "        reward_files.append(os.path.join(dirpath, filename))\n",
    "\n",
    "rewards_list = [(reward_file, np.fromfile(reward_file, sep=\"\\n\", dtype=np.float32)) for reward_file in sorted(reward_files)]\n",
    "\n",
    "for rewards in rewards_list:\n",
    "    plt.plot(rewards[1], label=rewards[0])\n",
    "\n",
    "plt.legend()"
   ]
  }
 ],
 "metadata": {
  "interpreter": {
   "hash": "54e45d1443a48d521e8bb16c3e93948b63d92f2b14175aa838e9e8389e16aace"
  },
  "kernelspec": {
   "display_name": "Python 3 (ipykernel)",
   "language": "python",
   "name": "python3"
  },
  "language_info": {
   "codemirror_mode": {
    "name": "ipython",
    "version": 3
   },
   "file_extension": ".py",
   "mimetype": "text/x-python",
   "name": "python",
   "nbconvert_exporter": "python",
   "pygments_lexer": "ipython3",
   "version": "3.9.12"
  }
 },
 "nbformat": 4,
 "nbformat_minor": 4
}
